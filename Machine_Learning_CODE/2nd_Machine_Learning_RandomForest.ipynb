{
  "nbformat": 4,
  "nbformat_minor": 0,
  "metadata": {
    "colab": {
      "provenance": []
    },
    "kernelspec": {
      "name": "python3",
      "display_name": "Python 3"
    },
    "language_info": {
      "name": "python"
    }
  },
  "cells": [
    {
      "cell_type": "code",
      "execution_count": 3,
      "metadata": {
        "colab": {
          "base_uri": "https://localhost:8080/"
        },
        "id": "s54X0YzqRuT3",
        "outputId": "87196291-e806-4676-cab1-eab3c23aa7c4"
      },
      "outputs": [
        {
          "output_type": "stream",
          "name": "stdout",
          "text": [
            "✅ 정확도: 0.8569792263237361\n",
            "✅ 정밀도: 0.3513024602026049\n",
            "✅ 재현율: 0.5044155844155844\n",
            "✅ F1 점수: 0.41416080187673276\n",
            "\n",
            "📊 상세 분류 리포트:\n",
            "               precision    recall  f1-score   support\n",
            "\n",
            "         재직중       0.94      0.90      0.92     17282\n",
            "          퇴사       0.35      0.50      0.41      1925\n",
            "\n",
            "    accuracy                           0.86     19207\n",
            "   macro avg       0.65      0.70      0.67     19207\n",
            "weighted avg       0.88      0.86      0.87     19207\n",
            "\n"
          ]
        }
      ],
      "source": [
        "# 라이브러리 불러오기\n",
        "import pandas as pd\n",
        "from sklearn.model_selection import train_test_split\n",
        "from sklearn.preprocessing import LabelEncoder\n",
        "from sklearn.ensemble import RandomForestClassifier\n",
        "from sklearn.metrics import accuracy_score, precision_score, recall_score, f1_score, classification_report\n",
        "from imblearn.over_sampling import SMOTE\n",
        "\n",
        "# 데이터 불러오기\n",
        "df = pd.read_csv(\"employee_new3.csv\",\n",
        "                 encoding='utf-8',\n",
        "                 on_bad_lines='skip',  # pandas 1.3 이상\n",
        "                 engine='python')      # 유연한 파서 사용\n",
        "\n",
        "# 'Gender'에서 'Other' 제거\n",
        "df = df[df['Gender'] != 'Other']\n",
        "df = df.dropna()\n",
        "\n",
        "# 사용하지 않을 컬럼 제거\n",
        "df = df.drop(columns=['Employee_ID', 'Hire_Date'])\n",
        "\n",
        "# 라벨 인코딩\n",
        "cat_cols = df.select_dtypes(include='object').columns\n",
        "for col in cat_cols:\n",
        "    le = LabelEncoder()\n",
        "    df[col] = le.fit_transform(df[col])\n",
        "\n",
        "# X, y 분리\n",
        "X = df.drop('Resigned', axis=1)\n",
        "y = df['Resigned'].astype(int)\n",
        "\n",
        "# Train/Test Split\n",
        "X_train, X_test, y_train, y_test = train_test_split(\n",
        "    X, y, test_size=0.2, stratify=y, random_state=42\n",
        ")\n",
        "\n",
        "# SMOTE로 불균형 처리\n",
        "smote = SMOTE(random_state=42)\n",
        "X_train_res, y_train_res = smote.fit_resample(X_train, y_train)\n",
        "\n",
        "# RandomForestClassifier 학습 (빠르게 n_estimators=50)\n",
        "model = RandomForestClassifier(n_estimators=50, random_state=42)\n",
        "model.fit(X_train_res, y_train_res)\n",
        "\n",
        "# 예측 및 평가\n",
        "y_pred = model.predict(X_test)\n",
        "print(\"✅ 정확도:\", accuracy_score(y_test, y_pred))\n",
        "print(\"✅ 정밀도:\", precision_score(y_test, y_pred))\n",
        "print(\"✅ 재현율:\", recall_score(y_test, y_pred))\n",
        "print(\"✅ F1 점수:\", f1_score(y_test, y_pred))\n",
        "print(\"\\n📊 상세 분류 리포트:\\n\", classification_report(y_test, y_pred, target_names=[\"재직중\", \"퇴사\"]))\n"
      ]
    }
  ]
}